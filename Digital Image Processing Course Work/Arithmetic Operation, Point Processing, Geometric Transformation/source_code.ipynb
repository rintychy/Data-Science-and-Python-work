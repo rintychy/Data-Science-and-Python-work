{
 "cells": [
  {
   "cell_type": "code",
   "execution_count": 196,
   "metadata": {},
   "outputs": [],
   "source": [
    "import numpy as np"
   ]
  },
  {
   "cell_type": "code",
   "execution_count": 197,
   "metadata": {},
   "outputs": [],
   "source": [
    "lena_image_file = \"image_file/lena.raw\"\n",
    "lena_edit_image_file = \"image_file/lena_edit.raw\""
   ]
  },
  {
   "cell_type": "code",
   "execution_count": 198,
   "metadata": {},
   "outputs": [],
   "source": [
    "x = y = 512"
   ]
  },
  {
   "cell_type": "code",
   "execution_count": 199,
   "metadata": {},
   "outputs": [],
   "source": [
    "def read_image_file(raw_image):\n",
    "    pixels = [[0 for row in range(x)] for column in range(y)]\n",
    "    with open(raw_image, 'rb') as binary_file:\n",
    "        data = binary_file.read()\n",
    "        string_data = \" \".join(map(str, data))\n",
    "        list_data = string_data.split(\" \")\n",
    "        counter = 0\n",
    "        for i in range(x):\n",
    "            for j in range(y):\n",
    "                pixels[i][j] = list_data[counter]\n",
    "                counter = counter + 1\n",
    "    return pixels"
   ]
  },
  {
   "cell_type": "code",
   "execution_count": 200,
   "metadata": {},
   "outputs": [],
   "source": [
    "image1 = read_image_file(lena_image_file)\n",
    "image2 = read_image_file(lena_edit_image_file)"
   ]
  },
  {
   "cell_type": "code",
   "execution_count": 201,
   "metadata": {},
   "outputs": [],
   "source": [
    "def write_image_file(pixels, image_file):\n",
    "    new_file = open(image_file + '.raw', 'wb')\n",
    "    formatted_pixels = np.matrix(pixels).astype('uint8')\n",
    "    new_file.write(formatted_pixels)\n",
    "    new_file.close()"
   ]
  },
  {
   "cell_type": "code",
   "execution_count": 202,
   "metadata": {},
   "outputs": [],
   "source": [
    "def subtraction(image1, image2):\n",
    "    result = [[0 for row in range(x)] for column in range(y)]\n",
    "    for i in range(x):\n",
    "        for j in range(y):\n",
    "            result[i][j] = int(image1[i][j]) - int(image2[i][j])\n",
    "    return result"
   ]
  },
  {
   "cell_type": "code",
   "execution_count": 203,
   "metadata": {},
   "outputs": [],
   "source": [
    "result = subtraction(image1, image2)\n",
    "write_image_file(result, \"lena_subtraction\")"
   ]
  },
  {
   "cell_type": "code",
   "execution_count": 204,
   "metadata": {},
   "outputs": [],
   "source": [
    "def negation(image1):\n",
    "    negative_image = [[0 for row in range(x)] for column in range(y)]\n",
    "    for i in range(x):\n",
    "        for j in range(y):\n",
    "            negative_image[i][j] = 255 - int(image1[i][j])\n",
    "    return negative_image"
   ]
  },
  {
   "cell_type": "code",
   "execution_count": 205,
   "metadata": {},
   "outputs": [],
   "source": [
    "negative_image = negation(image1)\n",
    "write_image_file(negative_image, \"lena_negative\")"
   ]
  },
  {
   "cell_type": "code",
   "execution_count": 206,
   "metadata": {},
   "outputs": [],
   "source": [
    "def translation(image1, pixels):\n",
    "    translating_image = [[0 for row in range(x)] for column in range(y)]\n",
    "    for i in range(x):\n",
    "        for j in range(y):\n",
    "            if((i + pixels + 1) <= x and ((j + pixels + 1) <= y)):\n",
    "                translating_image[i + pixels][j + pixels] = image1[i][j]\n",
    "    return translating_image"
   ]
  },
  {
   "cell_type": "code",
   "execution_count": 207,
   "metadata": {},
   "outputs": [],
   "source": [
    "translating_image = translation(image1, 5)\n",
    "write_image_file(translating_image, \"lena_translation\")"
   ]
  }
 ],
 "metadata": {
  "kernelspec": {
   "display_name": "Python 3",
   "language": "python",
   "name": "python3"
  },
  "language_info": {
   "codemirror_mode": {
    "name": "ipython",
    "version": 3
   },
   "file_extension": ".py",
   "mimetype": "text/x-python",
   "name": "python",
   "nbconvert_exporter": "python",
   "pygments_lexer": "ipython3",
   "version": "3.7.3"
  }
 },
 "nbformat": 4,
 "nbformat_minor": 2
}
