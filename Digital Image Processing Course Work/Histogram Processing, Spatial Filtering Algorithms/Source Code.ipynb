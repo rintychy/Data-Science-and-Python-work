{
 "cells": [
  {
   "cell_type": "markdown",
   "metadata": {},
   "source": [
    "# CSC416 - DigitalImage - HW#2 - Rinty Chowdhury"
   ]
  },
  {
   "cell_type": "code",
   "execution_count": null,
   "metadata": {},
   "outputs": [],
   "source": [
    "import numpy as np\n",
    "import math\n",
    "from subtract import Subtract"
   ]
  },
  {
   "cell_type": "markdown",
   "metadata": {},
   "source": [
    "## Helper functions"
   ]
  },
  {
   "cell_type": "code",
   "execution_count": null,
   "metadata": {},
   "outputs": [],
   "source": [
    "def read_image_file(raw_image):\n",
    "    pixels = [[0 for row in range(512)] for column in range(512)]\n",
    "    with open(raw_image, 'rb') as binary_file:\n",
    "        data = binary_file.read()\n",
    "        string_data = \" \".join(map(str, data))\n",
    "        list_data = string_data.split(\" \")\n",
    "        counter = 0\n",
    "        for i in range(512):\n",
    "            for j in range(512):\n",
    "                pixels[i][j] = list_data[counter]\n",
    "                counter = counter + 1\n",
    "    return pixels\n",
    "\n",
    "def read_image_file2(image, n, dimension):\n",
    "    t = [[0 for row in range(dimension[0])] for column in range(dimension[1])]\n",
    "    with open(image, \"r+b\") as binary_file:\n",
    "        data = binary_file.read_image_file()\n",
    "        string_data = \" \".join(map(str, data))\n",
    "        list_data = string_data.split(\" \")\n",
    "        counter = 0\n",
    "        for i in range(dimension[0] - n):\n",
    "            for j in range(dimension[1] - n):\n",
    "                t[i][j] = list_data[counter]\n",
    "                counter = counter + 1\n",
    "    return t\n",
    "    \n",
    "def move_image(image, move, dimension):\n",
    "    result = [[0 for row in range(dimension[0])] for column in range(dimension[1])]\n",
    "    for i in range(dimension[0]):\n",
    "        for j in range(dimension[1]):\n",
    "            if (((i + move + 1) <= 512) and ((j + move + 1) <= 512)):\n",
    "                result[i + move][j + move] = image[i][j]\n",
    "    return result\n",
    "\n",
    "def out_of_range_pixel(image):\n",
    "    min = 10000\n",
    "    max = -1000\n",
    "    for i in range(512):\n",
    "        for j in range(512):\n",
    "            if (int(image[i][j] > max)):\n",
    "                max = image[i][j]\n",
    "            if (int(image[i][j]) < min):\n",
    "                min = image[i][j]\n",
    "                \n",
    "def image_normalization(image):\n",
    "    result = [[0 for row in range(512)] for column in range(512)]\n",
    "    for i in range(512):\n",
    "        for j in range(512):\n",
    "            result[i][j] = image[i][j] + 255\n",
    "    return result\n",
    "\n",
    "def write_image_file(pixels, image_file):\n",
    "    new_file = open(image_file + '.raw', 'wb')\n",
    "    formatted_pixels = np.matrix(pixels).astype('uint8')\n",
    "    new_file.write(formatted_pixels)\n",
    "    new_file.close()"
   ]
  },
  {
   "cell_type": "code",
   "execution_count": null,
   "metadata": {},
   "outputs": [],
   "source": [
    "lena = \"image_file\\\\lena.raw\"\n",
    "image = read_image_file(lena)"
   ]
  },
  {
   "cell_type": "markdown",
   "metadata": {},
   "source": [
    "## Histogram processing"
   ]
  },
  {
   "cell_type": "code",
   "execution_count": null,
   "metadata": {},
   "outputs": [],
   "source": [
    "def histogram_equalization(input_image, output_image):\n",
    "    intensities = [0 for row in range(255)]\n",
    "    probability = [0 for row in range(255)]\n",
    "    cumulative_probability = [0 for row in range(255)]\n",
    "    result = [[0 for row in range(512)] for column in range(512)]\n",
    "    for i in range(512):\n",
    "        for j in range(512):\n",
    "            x = int(image[i][j])\n",
    "            intensities[x] = intensities[x] + 1\n",
    "    for i in range(255):\n",
    "        intensity = int(intensities[i])\n",
    "        probability[i] = float(intensity / ((512 * 512) - 1))\n",
    "    for i in range(255):\n",
    "        cumulative_probability[i] = cumulative_probability[i - 1] + probability[i]\n",
    "    for i in range(512):\n",
    "        for j in range(512):\n",
    "            pixel_intensity = int(image[i][j])\n",
    "            result[i][j] = int(float(cumulative_probability[pixel_intensity]) * 255)\n",
    "    return (write_image_file(result, output_image))\n",
    "\n",
    "histogram_equalization(lena, \"lena_histequal\")"
   ]
  },
  {
   "cell_type": "markdown",
   "metadata": {},
   "source": [
    "## Gaussian filtering"
   ]
  },
  {
   "cell_type": "code",
   "execution_count": null,
   "metadata": {},
   "outputs": [],
   "source": [
    "def gaussian_filter(input_image, kernel_size, sigma, k, output_image):\n",
    "    new_dimension = [522, 522]\n",
    "    image = read_image_file2(input_image, 10, new_dimension)\n",
    "    new_image = move_image(image, 5, new_dimension)\n",
    "    result = [[0 for row in range(512)] for column in range(512)]\n",
    "    sigma = sigma\n",
    "    k = k\n",
    "    kernel = [[0 for row in range(kernel_size[0])] for column in range(kernel_size[1])]\n",
    "    for i in range(5):\n",
    "        for j in range(5):\n",
    "            kernel[i][j] = K * math.exp(-(math.pow(i - 2, 2) + math.pow(j - 2, 2)) / (2 * math.pow(sigma, 2)))\n",
    "    for i in range(512):\n",
    "        for j in range(512):\n",
    "            temp = 0\n",
    "            for x in range(5):\n",
    "                for y in range(5):\n",
    "                    temp += float(new_image[i + x][j + y]) * kernel[x][y]\n",
    "            result[i][j] = int(temp / 25)\n",
    "    return (write_image_file(result, output_image))\n",
    "\n",
    "gaussian_filter(lena, [5, 5], 2, 1.67, \"lena_smooth\")"
   ]
  },
  {
   "cell_type": "markdown",
   "metadata": {},
   "source": [
    "## Unsharp masking"
   ]
  },
  {
   "cell_type": "code",
   "execution_count": null,
   "metadata": {},
   "outputs": [],
   "source": [
    "def unsharp_mask(input_image, smooth_image, output_image):\n",
    "    result = Subtract.sub_two_matrices(input_image, smooth_image, [512, 512])\n",
    "    out_of_range_pixel(result)\n",
    "    result = Subtract.add_two_matrices(input_image, result, [512, 512])\n",
    "    min = 10000\n",
    "    max = -1000\n",
    "    for i in range(512):\n",
    "        for j in range(512):\n",
    "            if int(result[i][j]) < min:\n",
    "                min = int(result[i][j])\n",
    "    for i in range(512):\n",
    "        for j in range(512):\n",
    "            result[i][j] = result[i][j] - min\n",
    "    for i in range(512):\n",
    "        for j in range(512):\n",
    "            if int(result[i][j]) > max:\n",
    "                max = int(result[i][j])\n",
    "    for i in range(512):\n",
    "        for j in range(512):\n",
    "            result[i][j] = (result[i][j] / max) \n",
    "    for i in range(512):\n",
    "        for j in range(512):\n",
    "            result[i][j] = int(result[i][j] * 255)\n",
    "    out_of_range_pixel(result)\n",
    "    return (write_image_file(result, output_image))\n",
    "    \n",
    "unsharp_mask(image, smooth, \"lena_unsharpmask\")"
   ]
  },
  {
   "cell_type": "markdown",
   "metadata": {},
   "source": [
    "## Highpass filtering"
   ]
  },
  {
   "cell_type": "code",
   "execution_count": null,
   "metadata": {},
   "outputs": [],
   "source": [
    "def highpass_filter(input_image, output_image):\n",
    "    new_dimension = [518, 518]\n",
    "    image = read_image_file2(input_image, 6, new_dimension)\n",
    "    new_image = move_image(image, 5, new_dimension)\n",
    "    result = [[0 for row in range(512)] for column in range(512)]\n",
    "    laplacian_kernel = [[0, 1, 0], [1, -4, 1], [0, 1, 0]]\n",
    "    for i in range(512):\n",
    "        for j in range(512):\n",
    "            temp = 0\n",
    "            for x in range(3):\n",
    "                for y in range(3):\n",
    "                    temp += float(new_image[i + 3 + x - 1][j + 3 + y - 1]) * laplacian_kernel[x][y]\n",
    "            result[i][j] = int(temp / 9)         \n",
    "    result = Subtract.sub_two_matrices(image, result, [512, 512])\n",
    "    result = image_normalization(result)\n",
    "    return (write_image_file(result, output_image))\n",
    "\n",
    "highpass_filter(lena, \"lena_sharpening\")"
   ]
  }
 ],
 "metadata": {
  "kernelspec": {
   "display_name": "Python 3",
   "language": "python",
   "name": "python3"
  },
  "language_info": {
   "codemirror_mode": {
    "name": "ipython",
    "version": 3
   },
   "file_extension": ".py",
   "mimetype": "text/x-python",
   "name": "python",
   "nbconvert_exporter": "python",
   "pygments_lexer": "ipython3",
   "version": "3.7.3"
  }
 },
 "nbformat": 4,
 "nbformat_minor": 2
}
