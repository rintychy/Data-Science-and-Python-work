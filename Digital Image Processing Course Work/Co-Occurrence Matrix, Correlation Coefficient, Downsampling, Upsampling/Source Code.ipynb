{
 "cells": [
  {
   "cell_type": "markdown",
   "metadata": {},
   "source": [
    "# CSC416 - DigitalImage - HW#4 - Rinty Chowdhury"
   ]
  },
  {
   "cell_type": "code",
   "execution_count": 11,
   "metadata": {},
   "outputs": [],
   "source": [
    "import numpy as np\n",
    "import math"
   ]
  },
  {
   "cell_type": "markdown",
   "metadata": {},
   "source": [
    "## Co-occurrence matrix"
   ]
  },
  {
   "cell_type": "code",
   "execution_count": 12,
   "metadata": {},
   "outputs": [],
   "source": [
    "def co_occurrence_matrix(image):\n",
    "    result = np.zeros((256, 256), dtype=np.uint8)\n",
    "    for x in np.arange(0, image.shape[0] - 1):\n",
    "        for y in np.arange(0, image.shape[1]):\n",
    "            x_value = image.item(x + 1, y)\n",
    "            y_value = image.item(x, y)\n",
    "            matrix_value = result.item(x_value, y_value)\n",
    "            result.itemset((x_value, y_value), matrix_value + 1)\n",
    "    return result"
   ]
  },
  {
   "cell_type": "code",
   "execution_count": 13,
   "metadata": {},
   "outputs": [],
   "source": [
    "cktboard = open('image_file/cktboard.raw', 'rb')\n",
    "width = 365\n",
    "height = 120\n",
    "image = np.fromfile(cktboard, dtype=np.uint8, count = height * width)\n",
    "image_array = image.reshape((height, width))\n",
    "cktboard.close()\n",
    "matrix = co_occurrence_matrix(image_array)\n",
    "import cv2\n",
    "eualize_matrix = cv2.equalizeHist(matrix)\n",
    "eualize_matrix.tofile('output_images/cktboard_texture.raw')"
   ]
  },
  {
   "cell_type": "markdown",
   "metadata": {},
   "source": [
    "## Similarity measure – correlation coefficient"
   ]
  },
  {
   "cell_type": "code",
   "execution_count": 14,
   "metadata": {},
   "outputs": [],
   "source": [
    "def normalization(image):\n",
    "    w, h = image.shape\n",
    "    minimum = np.amin(image)\n",
    "    if minimum < 0:\n",
    "        image = image + abs(minimum)\n",
    "    maximum = np.amax(image)\n",
    "    result = np.zeros(image.shape, 'd')\n",
    "    for x in np.arange(0, w):\n",
    "        for y in np.arange(0, h):\n",
    "            result.itemset((x, y), float(image.item(x, y)) / maximum)\n",
    "    return result\n",
    "\n",
    "import timeit as tit\n",
    "def correlation_coefficient(image, template):\n",
    "    t = tit.Timer()\n",
    "    result = np.zeros(image.shape)\n",
    "    image_width, image_height = image.shape\n",
    "    template_width, template_height = template.shape\n",
    "    template_mean = np.mean(template)\n",
    "    start_time = t.timer()\n",
    "    for i in np.arange(0, image_width):\n",
    "        for j in np.arange(0, image_height):\n",
    "            if i - template_width / 2 <= 0:\n",
    "                left = 0\n",
    "            elif image_width - i < template_width:\n",
    "                left = image_width - template_width\n",
    "            else:\n",
    "                left = i\n",
    "            right = left + template_width\n",
    "            if j - template_height / 2 <= 0:\n",
    "                top = 0\n",
    "            elif image_height - j < template_height:\n",
    "                top = image_height - template_height\n",
    "            else:\n",
    "                top = j\n",
    "            bottom = top + template_height\n",
    "            sub = image[left:right, top:bottom]\n",
    "            sub_mean = np.mean(sub)\n",
    "            temp = (sub - sub_mean) * (template - template_mean)\n",
    "            s1 = temp.sum()\n",
    "            temp = (sub - sub_mean) * (sub - sub_mean)\n",
    "            s2 = temp.sum()\n",
    "            temp = (template - template_mean) * (template - template_mean)\n",
    "            s3 = temp.sum()\n",
    "            denom = s2 * s3\n",
    "            if denom == 0:\n",
    "                temp = 0\n",
    "            else:\n",
    "                temp = s1 / math.sqrt(denom)\n",
    "            result.itemset((i, j), temp)\n",
    "    end_time = t.timer()\n",
    "    print(\"Correlation coefficient: \", end_time - start_time)\n",
    "    return result"
   ]
  },
  {
   "cell_type": "code",
   "execution_count": 15,
   "metadata": {},
   "outputs": [
    {
     "name": "stdout",
     "output_type": "stream",
     "text": [
      "Correlation coefficient:  8.674546099999816\n"
     ]
    }
   ],
   "source": [
    "flowers = open('image_file/flowers.raw', 'rb')\n",
    "width = 400\n",
    "height = 300\n",
    "image = np.fromfile(flowers, dtype=np.uint8, count = height * width)\n",
    "image_array = image.reshape((height, width))\n",
    "flowers.close()\n",
    "flowers_template = open('image_file/flowers-template.raw', 'rb')\n",
    "width = 42\n",
    "height = 45\n",
    "image_template = np.fromfile(flowers_template, dtype=np.uint8, count = height * width)\n",
    "image_template_array = image_template.reshape((height, width))\n",
    "flowers_template.close()\n",
    "correlation_coefficient = correlation_coefficient(image_array, image_template_array)\n",
    "normalized_correlation_coefficient = normalization(correlation_coefficient) * 255\n",
    "normalized_correlation_coefficient = normalized_correlation_coefficient.astype(np.uint8)\n",
    "normalized_correlation_coefficient.tofile('output_images/flowers_correlation_coefficient.raw')"
   ]
  },
  {
   "cell_type": "markdown",
   "metadata": {},
   "source": [
    "## Image downsampling and upsampling"
   ]
  },
  {
   "cell_type": "code",
   "execution_count": 16,
   "metadata": {},
   "outputs": [],
   "source": [
    "def downsampling(image):\n",
    "    even_row = np.delete(image, list(range(0, image.shape[0], 2)), axis=0)\n",
    "    even_column = np.delete(even_row, list(range(0, even_row.shape[1], 2)), axis=1)\n",
    "    return even_column\n",
    "\n",
    "def upsampling(image):\n",
    "    result = np.zeros((512, 512), dtype=np.uint8)\n",
    "    for x in np.arange(0, image.shape[0]):\n",
    "        for y in np.arange(0, image.shape[1]):\n",
    "            result.itemset((x * 2, y * 2), image.item(x, y))\n",
    "            result.itemset((x * 2 + 1, y * 2), image.item(x, y))\n",
    "            result.itemset((x * 2, y * 2 + 1), image.item(x, y))\n",
    "            result.itemset((x * 2 + 1, y * 2 + 1), image.item(x, y))\n",
    "    return result"
   ]
  },
  {
   "cell_type": "code",
   "execution_count": 17,
   "metadata": {},
   "outputs": [],
   "source": [
    "lena = open('image_file/lena.raw', 'rb')\n",
    "width = 512\n",
    "height = 512\n",
    "image = np.fromfile(lena, dtype=np.uint8, count = height * width)\n",
    "image_array = image.reshape((height, width))\n",
    "lena.close()\n",
    "down_sample = downsampling(image_array)\n",
    "up_sample = upsampling(down_sample)\n",
    "up_sample.tofile('output_images/lena_resampling.raw')"
   ]
  }
 ],
 "metadata": {
  "kernelspec": {
   "display_name": "Python 3",
   "language": "python",
   "name": "python3"
  },
  "language_info": {
   "codemirror_mode": {
    "name": "ipython",
    "version": 3
   },
   "file_extension": ".py",
   "mimetype": "text/x-python",
   "name": "python",
   "nbconvert_exporter": "python",
   "pygments_lexer": "ipython3",
   "version": "3.7.6"
  }
 },
 "nbformat": 4,
 "nbformat_minor": 2
}
