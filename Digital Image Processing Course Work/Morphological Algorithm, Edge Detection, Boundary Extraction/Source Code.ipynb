{
 "cells": [
  {
   "cell_type": "markdown",
   "metadata": {},
   "source": [
    "# CSC416 - DigitalImage - HW#3 - Rinty Chowdhury"
   ]
  },
  {
   "cell_type": "code",
   "execution_count": 50,
   "metadata": {},
   "outputs": [],
   "source": [
    "import numpy as np\n",
    "from math import sqrt"
   ]
  },
  {
   "cell_type": "markdown",
   "metadata": {},
   "source": [
    "## Morphological operations: Dilation & Erosion"
   ]
  },
  {
   "cell_type": "code",
   "execution_count": 51,
   "metadata": {},
   "outputs": [],
   "source": [
    "def erode_dilate_function(input_array, threshold):\n",
    "    result = np.zeros(input_array.shape, dtype=np.uint8)\n",
    "    goal = 255 if threshold == 0 else 0\n",
    "    np.pad(input_array, ((1, 1), (1, 1)), 'edge')\n",
    "    for x in np.arange(1, input_array.shape[0] - 1):\n",
    "        for y in np.arange(1, input_array.shape[1] - 1):\n",
    "            if input_array.item(x - 1, y + 1) == threshold and input_array.item(x, y + 1) == threshold \\\n",
    "                    and input_array.item(x + 1, y + 1) == threshold and input_array.item(x - 1, y) == threshold \\\n",
    "                    and input_array.item(x, y) == threshold and input_array.item(x + 1, y) == threshold \\\n",
    "                    and input_array.item(x - 1, y - 1) == threshold and input_array.item(x, y - 1) == threshold \\\n",
    "                    and input_array.item(x + 1, y - 1) == threshold:\n",
    "                result.itemset((x, y), im.item(x, y))\n",
    "            else:\n",
    "                result.itemset((x, y), goal)\n",
    "    return result"
   ]
  },
  {
   "cell_type": "code",
   "execution_count": 52,
   "metadata": {},
   "outputs": [],
   "source": [
    "fingerprint = open('image_file/fingerprint.raw', 'rb')\n",
    "height = 238\n",
    "width = 315\n",
    "image = np.fromfile(fingerprint, dtype=np.uint8, count = height * width)\n",
    "image_array = image.reshape((height, width))\n",
    "fingerprint.close()\n",
    "dilate_image = erode_dilate_function(image_array, 0).astype(np.uint8)\n",
    "dilate_image.tofile('output_images/fingerprint_dilation.raw')\n",
    "erode_image = erode_dilate_function(image_array, 255).astype(np.uint8)\n",
    "erode_image.tofile('output_images/fingerprint_erosion.raw')"
   ]
  },
  {
   "cell_type": "markdown",
   "metadata": {},
   "source": [
    "## Morphological algorithm: Boundary Extraction"
   ]
  },
  {
   "cell_type": "code",
   "execution_count": 53,
   "metadata": {},
   "outputs": [],
   "source": [
    "lincoln = open('image_file/lincoln.raw', 'rb')\n",
    "height = 269\n",
    "width = 221\n",
    "image = np.fromfile(lincoln, dtype=np.uint8, count = height * width)\n",
    "image_array = image.reshape((height, width))\n",
    "lincoln.close()\n",
    "\n",
    "lincoln_erode = erode_dilate_function(image_array, 255).astype(np.uint8)\n",
    "boundary = image_array - lincoln_erode\n",
    "boundary.tofile('output_images/lincoln_boundary.raw')"
   ]
  },
  {
   "cell_type": "markdown",
   "metadata": {},
   "source": [
    "## Edge detection by using gradient operators"
   ]
  },
  {
   "cell_type": "code",
   "execution_count": 54,
   "metadata": {},
   "outputs": [],
   "source": [
    "def x_directional(image):\n",
    "    result = np.zeros(image.shape, dtype=np.int16)\n",
    "    np.pad(image, ((0, 0), (1, 1)), 'edge')\n",
    "    for x in np.arange(0, image.shape[0] - 1):\n",
    "        for y in np.arange(0, image.shape[1]):\n",
    "            difference = image.item(x + 1, y) - image.item(x, y)\n",
    "            result.itemset((x, y), difference)\n",
    "    return result"
   ]
  },
  {
   "cell_type": "code",
   "execution_count": 55,
   "metadata": {},
   "outputs": [],
   "source": [
    "lena = open('image_file/lena.raw', 'rb')\n",
    "height = width = 512\n",
    "image = np.fromfile(lena, dtype=np.uint8, count = height * width)\n",
    "image_array = image.reshape((height, width))\n",
    "image_array.astype(np.int)\n",
    "lena.close()\n",
    "derivX = x_directional(image_array)\n",
    "derivX.tofile('output_images/lena_derivX.raw')"
   ]
  },
  {
   "cell_type": "code",
   "execution_count": 56,
   "metadata": {},
   "outputs": [],
   "source": [
    "def y_directional(image):\n",
    "    result = np.zeros(image.shape, dtype=np.int16)\n",
    "    np.pad(image, ((1, 1), (0, 0)), 'edge')\n",
    "    for x in np.arange(0, image.shape[0]):\n",
    "        for y in np.arange(0, image.shape[1] - 1):\n",
    "            difference = image.item(x, y + 1) - image.item(x, y)\n",
    "            result.itemset((x, y), difference)\n",
    "    return result"
   ]
  },
  {
   "cell_type": "code",
   "execution_count": 57,
   "metadata": {},
   "outputs": [],
   "source": [
    "derivY = y_directional(image_array)\n",
    "derivY.tofile('output_images/lena_derivY.raw')"
   ]
  },
  {
   "cell_type": "code",
   "execution_count": 58,
   "metadata": {},
   "outputs": [],
   "source": [
    "def gradient(image):\n",
    "    result = np.zeros(image.shape, dtype=np.int16)\n",
    "    gradient_x = x_directional(image)\n",
    "    gradient_y = y_directional(image)\n",
    "    for x in np.arange(0, image.shape[0]):\n",
    "        for y in np.arange(0, image.shape[1]):\n",
    "            magnitude = sqrt((gradient_x.item(x, y) ** 2) + (gradient_y.item(x, y) ** 2))\n",
    "            result.itemset((x, y), abs(magnitude))\n",
    "    return result"
   ]
  },
  {
   "cell_type": "code",
   "execution_count": 59,
   "metadata": {},
   "outputs": [],
   "source": [
    "gradient_image = gradient(image_array)\n",
    "gradient_image.tofile('output_images/lena_gradient.raw')"
   ]
  }
 ],
 "metadata": {
  "kernelspec": {
   "display_name": "Python 3",
   "language": "python",
   "name": "python3"
  },
  "language_info": {
   "codemirror_mode": {
    "name": "ipython",
    "version": 3
   },
   "file_extension": ".py",
   "mimetype": "text/x-python",
   "name": "python",
   "nbconvert_exporter": "python",
   "pygments_lexer": "ipython3",
   "version": "3.7.6"
  }
 },
 "nbformat": 4,
 "nbformat_minor": 2
}
