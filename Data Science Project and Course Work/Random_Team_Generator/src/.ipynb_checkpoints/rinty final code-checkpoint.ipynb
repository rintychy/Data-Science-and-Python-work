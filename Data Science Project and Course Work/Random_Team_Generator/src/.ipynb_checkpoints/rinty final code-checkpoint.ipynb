{
 "cells": [
  {
   "cell_type": "markdown",
   "metadata": {},
   "source": [
    "Open the 'students.txt' file and ignore the first row of the file"
   ]
  },
  {
   "cell_type": "code",
   "execution_count": 1,
   "metadata": {},
   "outputs": [],
   "source": [
    "with open('students.txt') as file:\n",
    "    studentList = file.readlines()\n",
    "    studentList = studentList[1:]"
   ]
  },
  {
   "cell_type": "markdown",
   "metadata": {},
   "source": [
    "Sorts the 'content' file using 'Hash_ID' and save the sorted array into 'file'"
   ]
  },
  {
   "cell_type": "code",
   "execution_count": 2,
   "metadata": {},
   "outputs": [],
   "source": [
    "def Sort(studentList): \n",
    "    \"\"\"Using sorted() method to sort the list in ascending order using the 'Hash_ID' or second element\"\"\"\n",
    "    return(sorted(studentList, key = lambda x: x[1]))       \n",
    "sortedList = Sort(studentList)"
   ]
  },
  {
   "cell_type": "markdown",
   "metadata": {},
   "source": [
    "Divide the 'file' into 'n' number of students and create new array with those students"
   ]
  },
  {
   "cell_type": "code",
   "execution_count": 3,
   "metadata": {},
   "outputs": [],
   "source": [
    "members = 5  #students per team\n",
    "allTeam = [sortedList[i * members:(i + 1) * members] for i in range((len(sortedList) + members - 1)//members)]"
   ]
  },
  {
   "cell_type": "markdown",
   "metadata": {},
   "source": [
    "Print teams"
   ]
  },
  {
   "cell_type": "code",
   "execution_count": 4,
   "metadata": {},
   "outputs": [
    {
     "name": "stdout",
     "output_type": "stream",
     "text": [
      "\u001b[1mTeam:\u001b[0m\n",
      "Jackie Cuong,5769483329530745425\n",
      "Jaron Dunham,3889088399491561781\n",
      "Wahab Ehsan,2518675181136625693\n",
      "Daniel Frye,-2809269155154333602\n",
      "Matthew Moretz,6222526768225508173\n",
      "\n",
      "\u001b[1mTeam:\u001b[0m\n",
      "Jamie Weathers,7494716666415913531\n",
      "Gabriel Wilmoth,7677876049958771061\n",
      "Harini Booravalli Suresh,-4093258774299285144\n",
      "Daniel Foster,6764292987690706695\n",
      "lavanya Goluguri,1711906030537001898\n",
      "\n",
      "\u001b[1mTeam:\u001b[0m\n",
      "James Polk,6866171654675246582\n",
      "Naseeb Thapaliya,-5285248223491365467\n",
      "Sahithi Vanteru,-2799127417815973688\n",
      "Seth Goodwin,259212972574503367\n",
      "Jeremy Hudson,-6272853571550332958\n",
      "\n",
      "\u001b[1mTeam:\u001b[0m\n",
      "Henry Reichard,-2886551810478985348\n",
      "Christopher Edgecombe,6199857640101735323\n",
      "Shah Nafis Rafique,-3883714585606695496\n",
      "Christopher Thacker,-3902187348021919782\n",
      "Rinty Chowdhury,1583776007752598970\n",
      "\n",
      "\u001b[1mTeam:\u001b[0m\n",
      "William Downs,336891139488150869\n",
      "Michael Follari,6810089603355070317\n",
      "Miguel Gaspar Utrera,493454735766240990\n",
      "Hieu Vo,1493112895152592131\n",
      "Dimithra Ratnayake,-1632657826008984490\n",
      "\n",
      "\u001b[1mTeam:\u001b[0m\n",
      "Akash Meghani,-2242847958711309170\n",
      "Unnati Khivasara,6259802738933602461\n",
      "Anusha Vanama,-1797989270649470277\n",
      "Ioannis Batsios,3935875508609012725\n",
      "Jorge Salas,455657944666492550\n",
      "\n",
      "\u001b[1mTeam:\u001b[0m\n",
      "John Weber,2836559261835779102\n",
      "Rohit Reddy Gade,-4623969955760145159\n",
      "Sultan Al bogami,3949768801884845523\n",
      "Kun Yang,2563187256803808469\n",
      "Byungjin Kang,-5748223395222085748\n",
      "\n"
     ]
    }
   ],
   "source": [
    "for row in allTeam:\n",
    "    print('\\033[1m' + \"Team:\" + '\\033[0m')\n",
    "    for element in row:\n",
    "        print(element ,end='')\n",
    "    print()"
   ]
  }
 ],
 "metadata": {
  "kernelspec": {
   "display_name": "Python 3",
   "language": "python",
   "name": "python3"
  },
  "language_info": {
   "codemirror_mode": {
    "name": "ipython",
    "version": 3
   },
   "file_extension": ".py",
   "mimetype": "text/x-python",
   "name": "python",
   "nbconvert_exporter": "python",
   "pygments_lexer": "ipython3",
   "version": "3.7.6"
  }
 },
 "nbformat": 4,
 "nbformat_minor": 2
}
