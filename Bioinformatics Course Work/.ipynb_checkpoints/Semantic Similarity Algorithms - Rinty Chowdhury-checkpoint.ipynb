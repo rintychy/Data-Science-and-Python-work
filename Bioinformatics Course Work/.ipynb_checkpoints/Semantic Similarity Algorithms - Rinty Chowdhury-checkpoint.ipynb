{
 "cells": [
  {
   "cell_type": "markdown",
   "metadata": {},
   "source": [
    "# CSC425 - Bioinformatics - HW#1 - Rinty Chowdhury"
   ]
  },
  {
   "cell_type": "code",
   "execution_count": 310,
   "metadata": {},
   "outputs": [],
   "source": [
    "import pandas as pd\n",
    "import numpy as np\n",
    "from collections import defaultdict"
   ]
  },
  {
   "cell_type": "markdown",
   "metadata": {},
   "source": [
    "Given annotation data."
   ]
  },
  {
   "cell_type": "code",
   "execution_count": 311,
   "metadata": {},
   "outputs": [],
   "source": [
    "geneA  = ['GO_0016020', 'GO_0003677'];\n",
    "geneB  = ['GO_0016021'];\n",
    "geneC  = ['GO_0003677'];"
   ]
  },
  {
   "cell_type": "markdown",
   "metadata": {},
   "source": [
    "Reading the dataframe."
   ]
  },
  {
   "cell_type": "code",
   "execution_count": 312,
   "metadata": {},
   "outputs": [
    {
     "data": {
      "text/html": [
       "<div>\n",
       "<style scoped>\n",
       "    .dataframe tbody tr th:only-of-type {\n",
       "        vertical-align: middle;\n",
       "    }\n",
       "\n",
       "    .dataframe tbody tr th {\n",
       "        vertical-align: top;\n",
       "    }\n",
       "\n",
       "    .dataframe thead th {\n",
       "        text-align: right;\n",
       "    }\n",
       "</style>\n",
       "<table border=\"1\" class=\"dataframe\">\n",
       "  <thead>\n",
       "    <tr style=\"text-align: right;\">\n",
       "      <th></th>\n",
       "      <th>GO Term</th>\n",
       "      <th>Superclass</th>\n",
       "    </tr>\n",
       "  </thead>\n",
       "  <tbody>\n",
       "    <tr>\n",
       "      <th>0</th>\n",
       "      <td>GO_0001744</td>\n",
       "      <td>UBERON_5102544</td>\n",
       "    </tr>\n",
       "    <tr>\n",
       "      <th>1</th>\n",
       "      <td>GO_0035053</td>\n",
       "      <td>UBERON_5102544</td>\n",
       "    </tr>\n",
       "    <tr>\n",
       "      <th>2</th>\n",
       "      <td>GO_0035052</td>\n",
       "      <td>UBERON_5102544</td>\n",
       "    </tr>\n",
       "    <tr>\n",
       "      <th>3</th>\n",
       "      <td>GO_0001744</td>\n",
       "      <td>UBERON_5102389</td>\n",
       "    </tr>\n",
       "    <tr>\n",
       "      <th>4</th>\n",
       "      <td>GO_0035053</td>\n",
       "      <td>UBERON_5102389</td>\n",
       "    </tr>\n",
       "  </tbody>\n",
       "</table>\n",
       "</div>"
      ],
      "text/plain": [
       "      GO Term      Superclass\n",
       "0  GO_0001744  UBERON_5102544\n",
       "1  GO_0035053  UBERON_5102544\n",
       "2  GO_0035052  UBERON_5102544\n",
       "3  GO_0001744  UBERON_5102389\n",
       "4  GO_0035053  UBERON_5102389"
      ]
     },
     "execution_count": 312,
     "metadata": {},
     "output_type": "execute_result"
    }
   ],
   "source": [
    "my_data = pd.read_csv('./GO_AllSubsumers.tsv', sep='\\t', header=0)\n",
    "my_data.head()"
   ]
  },
  {
   "cell_type": "markdown",
   "metadata": {},
   "source": [
    "Using the 'defaultdict' to create superclass_dict. Looping through the dataframe and adding it to the superclass dictionary."
   ]
  },
  {
   "cell_type": "code",
   "execution_count": 313,
   "metadata": {},
   "outputs": [],
   "source": [
    "superclass_dict = {}\n",
    "GO_Term = 'GO Term'\n",
    "Superclass = 'Superclass'\n",
    "for index, row in my_data.iterrows(): \n",
    "    if row[GO_Term] in superclass_dict:\n",
    "        superclass_dict[row[GO_Term]].append(row[Superclass])\n",
    "    else:\n",
    "        superclass_dict[row[GO_Term]] = [row[GO_Term], row[Superclass]]  "
   ]
  },
  {
   "cell_type": "markdown",
   "metadata": {},
   "source": [
    "## All supporting methods"
   ]
  },
  {
   "cell_type": "code",
   "execution_count": 314,
   "metadata": {},
   "outputs": [],
   "source": [
    "def jaccard_similarity (GO_1, GO_2, superclass_dict):\n",
    "    \"\"\" This method uses GOterm 1, GOterm 2, and superclass dictionary as parameter. It loops through each element in\n",
    "    superclass dictionary for each term. If both of the element match then increment intersection and decrement\n",
    "    intersection by one. Then it divides intersection with union in order to get the Jaccard number. \"\"\"\n",
    "    \n",
    "    # Calculating union by adding the length of each term in superclass dictionary.\n",
    "    union = len(superclass_dict[GO_1]) + len(superclass_dict[GO_2])\n",
    "    intersection = 0;\n",
    "    # Looping through each element in superclass dictionary for both terms.\n",
    "    for x in superclass_dict[GO_1]:\n",
    "        for y in superclass_dict[GO_2]:\n",
    "            # If element in term one match with element in term two, then increment intersection and decrement union by\n",
    "            # one.\n",
    "            if x == y:\n",
    "                intersection += 1;\n",
    "                union -= 1;\n",
    "    # Calculating Jaccard number using intersection and union.\n",
    "    jaccard_num = intersection / union;\n",
    "    return jaccard_num;"
   ]
  },
  {
   "cell_type": "code",
   "execution_count": 315,
   "metadata": {},
   "outputs": [],
   "source": [
    "def allpairs_mean (gene_1, gene_2, superclass_dict):\n",
    "    \"\"\" This method uses gene1, gene2, and superclass dictionary as parameters. It loops through each GO terms for\n",
    "    both genes. Then using jaccard_similarity method, it calculates the jaccard number for each pair. It adds\n",
    "    each jaccard number to an array and then calculates mean of the array using np.average. \"\"\"\n",
    "    \n",
    "    jaccard_num = [];\n",
    "    # Looping through each GO terms for both genes.\n",
    "    for GO_x in gene_1:\n",
    "        for GO_y in gene_2:\n",
    "            # Calculating the jaccard number for all possible pairs and saving the answer to an array.\n",
    "            jaccard_num.append(jaccard_similarity(GO_x, GO_y, superclass_dict));\n",
    "    # Calculating mean of the array and returning the result.\n",
    "    return np.average(np.array(jaccard_num));"
   ]
  },
  {
   "cell_type": "code",
   "execution_count": 316,
   "metadata": {},
   "outputs": [],
   "source": [
    "def bestpairs_mean (gene_1, gene_2, number_dict):\n",
    "    \"\"\" This method uses gene1, gene2, and jaccard number as parameters. If both genes has only one GO term, then it\n",
    "    gets the jaccard number for that single pair and adds it to max similarity array. If both genes has more than\n",
    "    one GO term, then it goes throgh each pair for each GO terms in gene1. Once it finds the pair with the highest \n",
    "    jaccard number, then it adds the number to max similarity array. Then it calculates mean of the array. \"\"\"\n",
    "    \n",
    "    max_similarity = [];\n",
    "    curr_max_similarity = 0;\n",
    "    # Checking if the length of both genes is more than one.\n",
    "    if len(gene_1) > 1 and len(gene_2) > 1:\n",
    "        # Looping through each pair for each GO term in gene1.\n",
    "        for GO_x in number_dict:\n",
    "            for GO_y in number_dict[GO_x]:\n",
    "                # If jaccard number of the pair is more than curr max similarity, then replace curr max similarity with that value.\n",
    "                if number_dict[GO_x][GO_y] > curr_max_similarity:\n",
    "                    curr_max_similarity = number_dict[GO_x][GO_y];\n",
    "            # Once it finds the max similarity for one GO term, adds the number to max similarity array.\n",
    "            max_similarity.append(curr_max_similarity);\n",
    "            # Make curr max similarity equal zero for the next iteration.\n",
    "            curr_max_similarity = 0;\n",
    "    else:\n",
    "        # If both genes has only one GO term, then get the jaccard number of that pair and add to max similarity array.\n",
    "        for GO_w in number_dict:\n",
    "            for GO_z in number_dict[GO_w]: \n",
    "                max_similarity.append(number_dict[GO_w][GO_z]);\n",
    "    # Calculating mean of the max similarity array and returning the result.\n",
    "    return np.average(np.array(max_similarity))"
   ]
  },
  {
   "cell_type": "code",
   "execution_count": 317,
   "metadata": {},
   "outputs": [],
   "source": [
    "def jaccard_method (gene_1, gene_2, superclass_dict):    \n",
    "    \"\"\" This method uses gene1, gene2, and superclass dictionary as parameters. It loops throguh each GO term for both\n",
    "    genes. It calculates the jaccard number for each possible pair and saves it to a dictionary.\"\"\"\n",
    "    \n",
    "    jaccard_num = {};\n",
    "    # Looping through each GO term for both genes.\n",
    "    for GO_x in gene_1:\n",
    "        for GO_y in gene_2:\n",
    "            # Calculating the jaccard number for each pair and saving the result to jaacard num dict.\n",
    "            jaccard_num[GO_x] = {GO_y : jaccard_similarity(GO_x, GO_y, superclass_dict)};       \n",
    "    return jaccard_num"
   ]
  },
  {
   "cell_type": "code",
   "execution_count": 318,
   "metadata": {},
   "outputs": [],
   "source": [
    "def resnik_information_content (GO_1, GO_2, gene_list, gene_name, superclass_dict):\n",
    "    \"\"\" This method uses GOterm 1, GOterm 2, gene list, gene name, and superclass dictionary as parameters. It loops \n",
    "    through each superclass for each GO term in gene of gene list. Once it finds the superclass for one GO term, adds\n",
    "    it to infer superclass dataset under specific name and index. Then it loops through each GO term in infer data set\n",
    "    for each gene and save it to a list. Then it's checking for each element in infer dataset for each gene and if it \n",
    "    matchs with given GO term then increment numerator by one. Then it calculates the resnik number for each GO term \n",
    "    and save it to info content dict by given GO term name. Then loop through each element in superclass dict for each\n",
    "    gene and find the common GO terms. Then check the resnik number for each of those common GO terms. If it's higher\n",
    "    than max resnik number, then replace it with that higher value. \"\"\"\n",
    "    \n",
    "    infer_superclass_dict = {}\n",
    "    curr_superclass = set()\n",
    "    counter = max_resnik_num = 0\n",
    "    info_content_dict = {};\n",
    "    GO_set = set();\n",
    "    similar_GOterms = [];\n",
    "    # Looping through each superclass in superclass dictionary for each GO term of each gene in gene list.\n",
    "    for gene in gene_list:\n",
    "        for GOterm in gene:\n",
    "            for superclass in superclass_dict[GOterm]:\n",
    "                # Add the superclass of that GO term to current superclass set.\n",
    "                curr_superclass.add(superclass)\n",
    "        # Add the curr superclass data to infer superclass data at counter 0 under the given gene name.\n",
    "        infer_superclass_dict[gene_name[counter]] = list(curr_superclass)\n",
    "        # CLear the curr superclass set for next iteration.\n",
    "        curr_superclass.clear()\n",
    "        # Increment counter by 1.\n",
    "        counter += 1\n",
    "        # Looping through each GO term for each gene in infer data set. Adds GO term to GO set.\n",
    "        for gene in infer_superclass_dict:\n",
    "            for GOterm in infer_superclass_dict[gene]:\n",
    "                GO_set.add(GOterm);\n",
    "        # Convert GO set to GO list.\n",
    "        GO_list = list(GO_set);\n",
    "        numerator = 0;\n",
    "        # Calculating the denominator by getting the length of infer data set.\n",
    "        denominator = len(infer_superclass_dict);\n",
    "        # Looping through each GO term in GO list and each element in infer dataset for each gene.\n",
    "        for GOterm in GO_list:\n",
    "            for gene in infer_superclass_dict:\n",
    "                for x in infer_superclass_dict[gene]:\n",
    "                    # If x is equal to GO term then increment numerator by one.\n",
    "                    if GOterm == x:\n",
    "                        numerator += 1;\n",
    "                        break;\n",
    "            # Calculating Resnik number by using log base 2 of numerator divides denominator.\n",
    "            curr_resnik_num = np.math.log2((numerator / denominator));\n",
    "            # Multiply the value by -1 and save the result to info content dictionary by specific GO term.\n",
    "            info_content_dict[GOterm] = curr_resnik_num * -1;\n",
    "            # Making mumerator equals zero for next iteration.\n",
    "            numerator = 0;\n",
    "        # Looping through each element for each GO term in superclass dictionary.\n",
    "        for x in superclass_dict[GO_1]:\n",
    "            for y in superclass_dict[GO_2]:\n",
    "                # If both elements match then add that element to similar terms array.\n",
    "                if x == y:\n",
    "                    similar_GOterms.append(x)\n",
    "        for GOterm in similar_GOterms:\n",
    "            # If resnik number of GO term in info content is bigger then replace curr resnik number with that value.\n",
    "            if info_content_dict[GOterm] > max_resnik_num:\n",
    "                max_resnik_num = info_content_dict[GOterm]\n",
    "    return max_resnik_num"
   ]
  },
  {
   "cell_type": "code",
   "execution_count": 319,
   "metadata": {},
   "outputs": [],
   "source": [
    "def resnik_similarity (gene_1, gene_2, gene_list, gene_names, superclass_dict):\n",
    "    \"\"\" This method uses gene1, gene2, gene list, gene names, and superclass dictionary as parameters. It loops throguh\n",
    "    each GO term for both genes. It calculates the resnik number for each possible pair and save the number to a \n",
    "    dictionary.\"\"\"\n",
    "    \n",
    "    resnik_num = {};\n",
    "    # Looping through each GO term for both genes.\n",
    "    for GO_x in gene_1:\n",
    "        for GO_y in gene_2:\n",
    "            # Calculating the resnik number for each pair and saving the result to resnik num dict.\n",
    "            resnik_num[GO_x] = {GO_y : resnik_information_content(GO_x, GO_y, gene_list, gene_names, superclass_dict)}\n",
    "    return resnik_num"
   ]
  },
  {
   "cell_type": "markdown",
   "metadata": {},
   "source": [
    "## Question 1"
   ]
  },
  {
   "cell_type": "code",
   "execution_count": 320,
   "metadata": {},
   "outputs": [
    {
     "name": "stdout",
     "output_type": "stream",
     "text": [
      "Jaccard All Pairs similarity between GeneA and GeneC: 0.5\n"
     ]
    }
   ],
   "source": [
    "print(\"Jaccard All Pairs similarity between GeneA and GeneC: \" + str(allpairs_mean(geneA, geneC, superclass_dict)));"
   ]
  },
  {
   "cell_type": "markdown",
   "metadata": {},
   "source": [
    "## Question 2"
   ]
  },
  {
   "cell_type": "code",
   "execution_count": 321,
   "metadata": {},
   "outputs": [
    {
     "name": "stdout",
     "output_type": "stream",
     "text": [
      "Jaccard Best Pairs similarity between GeneA and GeneC: 0.5\n"
     ]
    }
   ],
   "source": [
    "print(\"Jaccard Best Pairs similarity between GeneA and GeneC: \" + str(bestpairs_mean(geneA, geneC, jaccard_method(geneA, geneC, superclass_dict))));"
   ]
  },
  {
   "cell_type": "markdown",
   "metadata": {},
   "source": [
    "## Question 3"
   ]
  },
  {
   "cell_type": "code",
   "execution_count": 322,
   "metadata": {},
   "outputs": [
    {
     "name": "stdout",
     "output_type": "stream",
     "text": [
      "Resnik Best Pairs similarity between GeneA and GeneB: 0.29248125036057815\n"
     ]
    }
   ],
   "source": [
    "gene_list = [geneA, geneB, geneC];\n",
    "gene_names = [\"geneA\", \"geneB\", \"geneC\"];\n",
    "print(\"Resnik Best Pairs similarity between GeneA and GeneB: \" + str(bestpairs_mean(geneA, geneB, resnik_similarity(geneA, geneB, gene_list, gene_names, superclass_dict))));"
   ]
  }
 ],
 "metadata": {
  "kernelspec": {
   "display_name": "Python 3",
   "language": "python",
   "name": "python3"
  },
  "language_info": {
   "codemirror_mode": {
    "name": "ipython",
    "version": 3
   },
   "file_extension": ".py",
   "mimetype": "text/x-python",
   "name": "python",
   "nbconvert_exporter": "python",
   "pygments_lexer": "ipython3",
   "version": "3.7.6"
  }
 },
 "nbformat": 4,
 "nbformat_minor": 2
}
