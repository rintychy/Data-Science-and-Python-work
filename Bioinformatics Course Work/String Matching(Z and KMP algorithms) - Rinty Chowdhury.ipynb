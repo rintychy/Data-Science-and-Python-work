{
 "cells": [
  {
   "cell_type": "markdown",
   "metadata": {},
   "source": [
    "## Z algorithm for string marching"
   ]
  },
  {
   "cell_type": "code",
   "execution_count": 74,
   "metadata": {},
   "outputs": [],
   "source": [
    "def create_Zarray (string):\n",
    "    \"\"\" This method takes a string as parameter and returns the z array of that string. \"\"\"\n",
    "    \n",
    "    z_array = [];\n",
    "    if (string != None and len(string) > 0):\n",
    "        z_array = [0] * len(string);\n",
    "        z_array[0] = \"X\";\n",
    "        for i in range (1, len(string)):\n",
    "            j = i;\n",
    "            k = 0;\n",
    "            count = 0;\n",
    "            while (j < len(string) and string[j] == string[k]):\n",
    "                j += 1;\n",
    "                k += 1;\n",
    "                count += 1;\n",
    "            z_array[i] = count;\n",
    "    return z_array;"
   ]
  },
  {
   "cell_type": "code",
   "execution_count": 75,
   "metadata": {},
   "outputs": [],
   "source": [
    "def z_algorithm (text, pattern):\n",
    "    \"\"\" This method takes text and pattern as parameters. Then it creates string P$T by adding text and pattern. \n",
    "    It creates z array of that string and checks if the pattern present at the text. Then it displays the\n",
    "    result. \"\"\"\n",
    "    \n",
    "    string = pattern + \"$\" + text;\n",
    "    z_array = create_Zarray(string);\n",
    "    beginning_index = [];\n",
    "    for i in range (0, len(z_array)):\n",
    "        if z_array[i] == len(pattern):\n",
    "            beginning_index.append(i - len(pattern) - 1);\n",
    "    if len(beginning_index) != 0:\n",
    "        print(\"Z-array:\" );\n",
    "        print(\"\\t\")\n",
    "        print(*z_array, sep = \", \")\n",
    "        print(\"\\t\")\n",
    "        for i in beginning_index:\n",
    "            print(\"Yes! Pattern is present at index \" + str(i)); \n",
    "    else:\n",
    "        print(\"Z-array:\" );\n",
    "        print(\"\\t\")\n",
    "        print(*z_array, sep = \", \")\n",
    "        print(\"\\t\")\n",
    "        print(\"No! Pattern is not present in the text.\");"
   ]
  },
  {
   "cell_type": "code",
   "execution_count": 76,
   "metadata": {},
   "outputs": [
    {
     "name": "stdout",
     "output_type": "stream",
     "text": [
      "Z-array:\n",
      "\t\n",
      "X, 0, 3, 0, 1, 0, 0, 0, 3, 0, 1, 0, 0, 2, 0, 0, 7, 0, 3, 0, 1, 0, 0\n",
      "\t\n",
      "Yes! Pattern is present at index 8\n"
     ]
    }
   ],
   "source": [
    "text = \"ACAT ACGACACAGT\"\n",
    "pattern = \"ACACAGT\"\n",
    "z_algorithm(text, pattern)"
   ]
  },
  {
   "cell_type": "markdown",
   "metadata": {},
   "source": [
    "## KMP algorithm for string matching"
   ]
  },
  {
   "cell_type": "code",
   "execution_count": 77,
   "metadata": {},
   "outputs": [],
   "source": [
    "def create_prefix_table(pattern, pattern_length):\n",
    "    \"\"\" This method takes pattern and pattern length as parameters and returns the prefix table of the pattern. \"\"\"\n",
    "    \n",
    "    prefix_table = [0] * pattern_length\n",
    "    n = 0\n",
    "    m = 1\n",
    "    while m != pattern_length:\n",
    "        if pattern[m] == pattern[n]:\n",
    "            n += 1\n",
    "            prefix_table[m] = n\n",
    "            m += 1\n",
    "        elif n != 0:\n",
    "                n = prefix_table[n-1]\n",
    "        else:\n",
    "            prefix_table[m] = 0\n",
    "            m += 1\n",
    "    return prefix_table"
   ]
  },
  {
   "cell_type": "code",
   "execution_count": 78,
   "metadata": {},
   "outputs": [],
   "source": [
    "def KMP_algorithm(pattern, text):\n",
    "    \"\"\" This method takes pattern and text as parameters. It creates the prefix table using pattern and pattern\n",
    "    length. Then it checks if the pattern is preseent in the text and displays the result. \"\"\"\n",
    "    \n",
    "    prefix_table = create_prefix_table(pattern, len(pattern))\n",
    "    beginning_index = []\n",
    "    m = n = 0\n",
    "    while m != len(text):\n",
    "        if text[m] == pattern[n]:\n",
    "            m += 1\n",
    "            n += 1\n",
    "        else:\n",
    "            n = prefix_table[n-1]\n",
    "        if n == len(pattern):\n",
    "            beginning_index.append(m-n)\n",
    "            n = prefix_table[n-1]\n",
    "        elif n == 0:\n",
    "            m += 1\n",
    "    if len(beginning_index) != 0:\n",
    "        print(\"Prefix table:\" );\n",
    "        print(\"\\t\")\n",
    "        print(*prefix_table, sep = \", \")\n",
    "        print(\"\\t\")\n",
    "        for i in beginning_index:\n",
    "            print(\"Yes! Pattern is present at index \" + str(i))\n",
    "    else:\n",
    "        print(\"Prefix table:\" );\n",
    "        print(\"\\t\")\n",
    "        print(*prefix_table, sep = \", \")\n",
    "        print(\"\\t\")\n",
    "        print(\"No! Pattern is not present in the text.\");"
   ]
  },
  {
   "cell_type": "code",
   "execution_count": 79,
   "metadata": {
    "scrolled": false
   },
   "outputs": [
    {
     "name": "stdout",
     "output_type": "stream",
     "text": [
      "Prefix table:\n",
      "\t\n",
      "0, 0, 1, 2, 3, 0, 0\n",
      "\t\n",
      "Yes! Pattern is present at index 8\n"
     ]
    }
   ],
   "source": [
    "text = \"ACAT ACGACACAGT\"\n",
    "pattern = \"ACACAGT\"\n",
    "KMP_algorithm(pattern, text)"
   ]
  }
 ],
 "metadata": {
  "kernelspec": {
   "display_name": "Python 3",
   "language": "python",
   "name": "python3"
  },
  "language_info": {
   "codemirror_mode": {
    "name": "ipython",
    "version": 3
   },
   "file_extension": ".py",
   "mimetype": "text/x-python",
   "name": "python",
   "nbconvert_exporter": "python",
   "pygments_lexer": "ipython3",
   "version": "3.7.3"
  }
 },
 "nbformat": 4,
 "nbformat_minor": 2
}
