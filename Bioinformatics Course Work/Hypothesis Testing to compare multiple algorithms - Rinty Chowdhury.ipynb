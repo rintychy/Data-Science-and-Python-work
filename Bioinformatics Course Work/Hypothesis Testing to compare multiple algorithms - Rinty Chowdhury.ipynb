{
 "cells": [
  {
   "cell_type": "markdown",
   "metadata": {},
   "source": [
    "# CSC425 - Bioinformatics - HW#3 - Rinty Chowdhury"
   ]
  },
  {
   "cell_type": "code",
   "execution_count": 47,
   "metadata": {},
   "outputs": [],
   "source": [
    "import pandas as pd\n",
    "import scipy"
   ]
  },
  {
   "cell_type": "code",
   "execution_count": 48,
   "metadata": {},
   "outputs": [
    {
     "data": {
      "text/html": [
       "<div>\n",
       "<style scoped>\n",
       "    .dataframe tbody tr th:only-of-type {\n",
       "        vertical-align: middle;\n",
       "    }\n",
       "\n",
       "    .dataframe tbody tr th {\n",
       "        vertical-align: top;\n",
       "    }\n",
       "\n",
       "    .dataframe thead th {\n",
       "        text-align: right;\n",
       "    }\n",
       "</style>\n",
       "<table border=\"1\" class=\"dataframe\">\n",
       "  <thead>\n",
       "    <tr style=\"text-align: right;\">\n",
       "      <th></th>\n",
       "      <th>Character Number</th>\n",
       "      <th>SimJ Score MACHINE</th>\n",
       "      <th>NIC Score MACHINE</th>\n",
       "      <th>SimJ Score HUMAN</th>\n",
       "      <th>NIC Score HUMAN</th>\n",
       "    </tr>\n",
       "  </thead>\n",
       "  <tbody>\n",
       "    <tr>\n",
       "      <th>0</th>\n",
       "      <td>1</td>\n",
       "      <td>0.112554</td>\n",
       "      <td>0.593206</td>\n",
       "      <td>1.000000</td>\n",
       "      <td>0.893731</td>\n",
       "    </tr>\n",
       "    <tr>\n",
       "      <th>1</th>\n",
       "      <td>1</td>\n",
       "      <td>0.458824</td>\n",
       "      <td>0.679010</td>\n",
       "      <td>1.000000</td>\n",
       "      <td>0.874253</td>\n",
       "    </tr>\n",
       "    <tr>\n",
       "      <th>2</th>\n",
       "      <td>1</td>\n",
       "      <td>0.308707</td>\n",
       "      <td>0.650113</td>\n",
       "      <td>1.000000</td>\n",
       "      <td>0.864296</td>\n",
       "    </tr>\n",
       "    <tr>\n",
       "      <th>3</th>\n",
       "      <td>2</td>\n",
       "      <td>0.000000</td>\n",
       "      <td>0.000000</td>\n",
       "      <td>0.454545</td>\n",
       "      <td>0.812466</td>\n",
       "    </tr>\n",
       "    <tr>\n",
       "      <th>4</th>\n",
       "      <td>2</td>\n",
       "      <td>0.000000</td>\n",
       "      <td>0.000000</td>\n",
       "      <td>0.454545</td>\n",
       "      <td>0.912107</td>\n",
       "    </tr>\n",
       "  </tbody>\n",
       "</table>\n",
       "</div>"
      ],
      "text/plain": [
       "   Character Number  SimJ Score MACHINE  NIC Score MACHINE  SimJ Score HUMAN  \\\n",
       "0                 1            0.112554           0.593206          1.000000   \n",
       "1                 1            0.458824           0.679010          1.000000   \n",
       "2                 1            0.308707           0.650113          1.000000   \n",
       "3                 2            0.000000           0.000000          0.454545   \n",
       "4                 2            0.000000           0.000000          0.454545   \n",
       "\n",
       "   NIC Score HUMAN  \n",
       "0         0.893731  \n",
       "1         0.874253  \n",
       "2         0.864296  \n",
       "3         0.812466  \n",
       "4         0.912107  "
      ]
     },
     "execution_count": 48,
     "metadata": {},
     "output_type": "execute_result"
    }
   ],
   "source": [
    "data = pd.read_csv('./SemanticSimilarityScores.tsv', sep='\\t', header=0)\n",
    "data.head()"
   ]
  },
  {
   "cell_type": "markdown",
   "metadata": {},
   "source": [
    "### Formulating null hypothesis"
   ]
  },
  {
   "cell_type": "markdown",
   "metadata": {},
   "source": [
    "Null hypothesis: The machine performance and human performance has no significant difference."
   ]
  },
  {
   "cell_type": "markdown",
   "metadata": {},
   "source": [
    "### Statistical test"
   ]
  },
  {
   "cell_type": "markdown",
   "metadata": {},
   "source": [
    "Two sample one tail paired T test"
   ]
  },
  {
   "cell_type": "markdown",
   "metadata": {},
   "source": [
    "### Conducting the statistical test"
   ]
  },
  {
   "cell_type": "code",
   "execution_count": 49,
   "metadata": {},
   "outputs": [],
   "source": [
    "simj_score = scipy.stats.ttest_rel(data['SimJ Score MACHINE'], data['SimJ Score HUMAN'])"
   ]
  },
  {
   "cell_type": "code",
   "execution_count": 50,
   "metadata": {},
   "outputs": [],
   "source": [
    "nic_score = scipy.stats.ttest_rel(data['NIC Score MACHINE'], data['NIC Score HUMAN'])"
   ]
  },
  {
   "cell_type": "markdown",
   "metadata": {},
   "source": [
    "### t-statistic and p-value"
   ]
  },
  {
   "cell_type": "code",
   "execution_count": 51,
   "metadata": {},
   "outputs": [
    {
     "name": "stdout",
     "output_type": "stream",
     "text": [
      "t-statistic of SimJ:-22.822077839334465 and p-value of SimJ: 9.42911786161821e-78\n"
     ]
    }
   ],
   "source": [
    "print(\"t-statistic of SimJ:\" + str(simj_score[0]) + \" and p-value of SimJ: \" + str(simj_score[1]))"
   ]
  },
  {
   "cell_type": "code",
   "execution_count": 52,
   "metadata": {},
   "outputs": [
    {
     "name": "stdout",
     "output_type": "stream",
     "text": [
      "t-statistic of NIC:-23.102283909944422 and p-value of NIC: 4.6455550628981397e-79\n"
     ]
    }
   ],
   "source": [
    "print(\"t-statistic of NIC:\" + str(nic_score[0]) + \" and p-value of NIC: \" + str(nic_score[1]))"
   ]
  },
  {
   "cell_type": "markdown",
   "metadata": {},
   "source": [
    "### Calculating mean"
   ]
  },
  {
   "cell_type": "code",
   "execution_count": 53,
   "metadata": {},
   "outputs": [
    {
     "name": "stdout",
     "output_type": "stream",
     "text": [
      "Mean of SimJ Machine: 0.27578901061123096\n",
      "Mean of SimJ Human: 0.7321378806781854\n",
      "\n",
      "Mean of NIC Machine: 0.42902210361123105\n",
      "Mean of NIC Human: 0.8648650540518366\n"
     ]
    }
   ],
   "source": [
    "print(\"Mean of SimJ Machine: \" + str(data['SimJ Score MACHINE'].mean()))\n",
    "print(\"Mean of SimJ Human: \" + str(data['SimJ Score HUMAN'].mean()))\n",
    "print()\n",
    "print(\"Mean of NIC Machine: \" + str(data['NIC Score MACHINE'].mean()))\n",
    "print(\"Mean of NIC Human: \" + str(data['NIC Score HUMAN'].mean()))"
   ]
  },
  {
   "cell_type": "markdown",
   "metadata": {},
   "source": [
    "### Reporting conclusion based on the result of the test"
   ]
  },
  {
   "cell_type": "markdown",
   "metadata": {},
   "source": [
    "Based on my T-test, the p-value is 9.42911786161821e-78 for jaccard similarity and 4.6455550628981397e-79 for rasnik similarity. So we reject the null hypothesis because in both test the p-value is way smaller than 0.05 using 95% confidence level. Then the mean was calculated for machine and human performance in both jaccard and rasnik similarity. Since in both similarity human performance mean is higher than the machine performance, so we can say that human performance is better than the machine prformance."
   ]
  },
  {
   "cell_type": "markdown",
   "metadata": {},
   "source": [
    "#### Conclusion: Human performance is better than the machine performance."
   ]
  }
 ],
 "metadata": {
  "kernelspec": {
   "display_name": "Python 3",
   "language": "python",
   "name": "python3"
  },
  "language_info": {
   "codemirror_mode": {
    "name": "ipython",
    "version": 3
   },
   "file_extension": ".py",
   "mimetype": "text/x-python",
   "name": "python",
   "nbconvert_exporter": "python",
   "pygments_lexer": "ipython3",
   "version": "3.7.3"
  }
 },
 "nbformat": 4,
 "nbformat_minor": 2
}
